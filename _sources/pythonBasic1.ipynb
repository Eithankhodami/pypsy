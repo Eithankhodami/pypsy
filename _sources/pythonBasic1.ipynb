{
 "cells": [
  {
   "cell_type": "markdown",
   "metadata": {},
   "source": [
    "# basics of Python\n",
    "\n",
    "This section gives you basics of Python, if you don't have any background you should learn, otherwise, you can skip this part"
   ]
  },
  {
   "cell_type": "markdown",
   "metadata": {},
   "source": [
    "(var-print)=\n",
    "## Printing\n",
    "\n",
    "We use `print()` function to print the output of our code."
   ]
  },
  {
   "cell_type": "code",
   "execution_count": 1,
   "metadata": {},
   "outputs": [
    {
     "name": "stdout",
     "output_type": "stream",
     "text": [
      "this is pythonBasic\n"
     ]
    }
   ],
   "source": [
    "print('this is pythonBasic')"
   ]
  },
  {
   "cell_type": "markdown",
   "metadata": {},
   "source": [
    ":::{caution}\n",
    "It is essential to take care of parenthesis and also using \" \" or ' ' for strings.\n",
    "\n",
    "if parenthesis are not used properly, it will give error.\n",
    "The same for strings, if you use ' ' for a string and inside the string you have ' ' it will give an error.\n",
    ":::"
   ]
  },
  {
   "cell_type": "markdown",
   "metadata": {},
   "source": [
    "As you can see, not closing parentheses will cause an error. the same for ' ' and \" \".\n",
    "\n"
   ]
  },
  {
   "cell_type": "markdown",
   "metadata": {},
   "source": [
    "for example following examples arise error\n",
    "\n",
    "```python\n",
    "print('hello world)\n",
    "```\n",
    "or \n",
    "\n",
    "```python\n",
    "print('hello world'\n",
    "```"
   ]
  },
  {
   "cell_type": "markdown",
   "metadata": {},
   "source": [
    "# Variables and data types"
   ]
  },
  {
   "cell_type": "markdown",
   "metadata": {},
   "source": [
    "## Numbers in python"
   ]
  },
  {
   "cell_type": "markdown",
   "metadata": {},
   "source": [
    "numbers in python are immutable, so we can't change them. numbers in python are divieded into two types: int and float.\n",
    "int is a whole number, and float is a number with decimal point.\n",
    "\n",
    ":::{note}\n",
    "we can use type() to check the type of a variable.\n",
    ":::"
   ]
  },
  {
   "cell_type": "code",
   "execution_count": 2,
   "metadata": {},
   "outputs": [],
   "source": [
    "a = 1\n",
    "b = 2.0"
   ]
  },
  {
   "cell_type": "markdown",
   "metadata": {},
   "source": [
    "now let's check their type."
   ]
  },
  {
   "cell_type": "code",
   "execution_count": 3,
   "metadata": {},
   "outputs": [
    {
     "data": {
      "text/plain": [
       "int"
      ]
     },
     "execution_count": 3,
     "metadata": {},
     "output_type": "execute_result"
    }
   ],
   "source": [
    "type(a)"
   ]
  },
  {
   "cell_type": "code",
   "execution_count": 4,
   "metadata": {},
   "outputs": [
    {
     "data": {
      "text/plain": [
       "float"
      ]
     },
     "execution_count": 4,
     "metadata": {},
     "output_type": "execute_result"
    }
   ],
   "source": [
    "type(b)"
   ]
  },
  {
   "cell_type": "markdown",
   "metadata": {},
   "source": [
    "as you can see, `a` is an integer and `b` is a float number."
   ]
  },
  {
   "cell_type": "markdown",
   "metadata": {},
   "source": [
    "### Differences between int and float\n",
    "\n",
    "- Type: ints are integers (whole numbers), while floats are floating point numbers (decimals).\n",
    "- Precision: ints have unlimited precision, while floats are approximations with limited precision due to how they are stored in memory.\n",
    "- Value range: ints can represent all whole numbers without limit, while floats have a maximum and minimum value.\n",
    "- Division: Division with ints always results in an int, while division with floats results in a float.\n",
    "- Declaration: ints are declared simply as integers, while floats must have a decimal point and/or be declared with float().\n",
    "Memory: ints take up 4 bytes in memory, while floats take up 8 bytes.\n",
    "Usage: ints are used for counting and exact values, while floats are used for measurements and approximations."
   ]
  },
  {
   "cell_type": "markdown",
   "metadata": {},
   "source": [
    "what if we multiply an `int` with a `float`?"
   ]
  },
  {
   "cell_type": "code",
   "execution_count": 5,
   "metadata": {},
   "outputs": [
    {
     "data": {
      "text/plain": [
       "float"
      ]
     },
     "execution_count": 5,
     "metadata": {},
     "output_type": "execute_result"
    }
   ],
   "source": [
    "c = a*b\n",
    "type(c)"
   ]
  },
  {
   "cell_type": "markdown",
   "metadata": {},
   "source": [
    "as it can be seen, any mathmatical operation of `int` and `float` will result in `float`"
   ]
  },
  {
   "cell_type": "markdown",
   "metadata": {},
   "source": [
    "you can change type of `int` to `float` by using `float()` function"
   ]
  },
  {
   "cell_type": "code",
   "execution_count": 6,
   "metadata": {},
   "outputs": [
    {
     "data": {
      "text/plain": [
       "float"
      ]
     },
     "execution_count": 6,
     "metadata": {},
     "output_type": "execute_result"
    }
   ],
   "source": [
    "a = 10\n",
    "b = float(a)\n",
    "type(b)"
   ]
  },
  {
   "cell_type": "markdown",
   "metadata": {},
   "source": [
    "Can we covert a `float` to `int`? Yes, we can. But we will lose the decimal part."
   ]
  },
  {
   "cell_type": "code",
   "execution_count": 10,
   "metadata": {},
   "outputs": [
    {
     "data": {
      "text/plain": [
       "int"
      ]
     },
     "execution_count": 10,
     "metadata": {},
     "output_type": "execute_result"
    }
   ],
   "source": [
    "x = 1.9999\n",
    "x = int(x)\n",
    "type(x)\n"
   ]
  },
  {
   "cell_type": "markdown",
   "metadata": {},
   "source": [
    ":::{tip}\n",
    "to recap:\n",
    "- `float(a)` converts `a` as if it is a integer to a float number\n",
    "- `int(a)` converts `a` as if it is a float number to an integer\n",
    ":::"
   ]
  },
  {
   "cell_type": "markdown",
   "metadata": {},
   "source": [
    "## Strings"
   ]
  },
  {
   "cell_type": "markdown",
   "metadata": {},
   "source": [
    "### What is string?\n",
    "\n",
    "- String is a sequence of characters.\n",
    "- String is a data type in python.\n",
    "- String is immutable.\n",
    "- String is a sequence of Unicode characters.\n",
    "\n",
    "to show the string we use single quote or double quote."
   ]
  },
  {
   "cell_type": "code",
   "execution_count": 11,
   "metadata": {},
   "outputs": [
    {
     "data": {
      "text/plain": [
       "'this is also a string'"
      ]
     },
     "execution_count": 11,
     "metadata": {},
     "output_type": "execute_result"
    }
   ],
   "source": [
    "'this is a string'\n",
    "\"this is also a string\""
   ]
  },
  {
   "cell_type": "markdown",
   "metadata": {},
   "source": [
    "if we wan to show a string, we use [print](var-print) function."
   ]
  },
  {
   "cell_type": "code",
   "execution_count": 12,
   "metadata": {},
   "outputs": [
    {
     "name": "stdout",
     "output_type": "stream",
     "text": [
      "This is a string\n",
      "This is also a string\n"
     ]
    }
   ],
   "source": [
    "print('This is a string')\n",
    "print(\"This is also a string\")"
   ]
  },
  {
   "cell_type": "markdown",
   "metadata": {},
   "source": [
    "we also can use \"\"\" \"\"\" to comment multiple lines"
   ]
  },
  {
   "cell_type": "code",
   "execution_count": 13,
   "metadata": {},
   "outputs": [
    {
     "data": {
      "text/plain": [
       "'\\nThis is a multi line\\ncomment in python\\n'"
      ]
     },
     "execution_count": 13,
     "metadata": {},
     "output_type": "execute_result"
    }
   ],
   "source": [
    "\"\"\"\n",
    "This is a multi line\n",
    "comment in python\n",
    "\"\"\""
   ]
  },
  {
   "cell_type": "markdown",
   "metadata": {},
   "source": [
    ":::{note}\n",
    "as you can see, while we `print` the multi-line, python use `\\n` to separate the lines. This can be used also with single `' '` or double `\" \"` quotes.\n",
    ":::"
   ]
  },
  {
   "cell_type": "code",
   "execution_count": 14,
   "metadata": {},
   "outputs": [
    {
     "name": "stdout",
     "output_type": "stream",
     "text": [
      "This is\n",
      " a string which issplit over\n",
      " several lines\n"
     ]
    }
   ],
   "source": [
    "print(\"This is\\n a string which issplit over\\n several lines\")"
   ]
  },
  {
   "cell_type": "markdown",
   "metadata": {},
   "source": [
    ":::{tip}\n",
    "we can also use `\\t` to add a tab space"
   ]
  },
  {
   "cell_type": "code",
   "execution_count": 15,
   "metadata": {},
   "outputs": [
    {
     "name": "stdout",
     "output_type": "stream",
     "text": [
      "This is a \t tabbed string\n"
     ]
    }
   ],
   "source": [
    "print(\"This is a \\t tabbed string\")"
   ]
  },
  {
   "cell_type": "markdown",
   "metadata": {},
   "source": [
    "we can use `+` to add two strings together"
   ]
  },
  {
   "cell_type": "code",
   "execution_count": 16,
   "metadata": {},
   "outputs": [
    {
     "name": "stdout",
     "output_type": "stream",
     "text": [
      "Hello World\n"
     ]
    }
   ],
   "source": [
    "stringOne = \"Hello\"\n",
    "stringTwo = \"World\"\n",
    "print(stringOne + \" \" + stringTwo)"
   ]
  },
  {
   "cell_type": "code",
   "execution_count": null,
   "metadata": {},
   "outputs": [],
   "source": []
  }
 ],
 "metadata": {
  "kernelspec": {
   "display_name": "Python 3 (ipykernel)",
   "language": "python",
   "name": "python3"
  },
  "language_info": {
   "codemirror_mode": {
    "name": "ipython",
    "version": 3
   },
   "file_extension": ".py",
   "mimetype": "text/x-python",
   "name": "python",
   "nbconvert_exporter": "python",
   "pygments_lexer": "ipython3",
   "version": "3.11.3"
  }
 },
 "nbformat": 4,
 "nbformat_minor": 4
}
