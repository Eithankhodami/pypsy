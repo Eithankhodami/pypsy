{
 "cells": [
  {
   "cell_type": "markdown",
   "metadata": {},
   "source": [
    "# Basics of Probailities"
   ]
  },
  {
   "cell_type": "markdown",
   "metadata": {},
   "source": [
    "## Random experiments\n",
    "\n",
    "A random experiment is an experiment whose outcome is not known in advance. For example, if we toss a coin, we do not know whether it will land heads or tails. If we roll a die, we do not know which number will come up. If we draw a card from a deck, we do not know which card we will get. All these are examples of random experiments.\n",
    "\n",
    "(prob-sample-space)=\n",
    "## Sample space\n",
    "\n",
    "The set of all possible outcomes of a random experiment is called the sample space of the experiment. For example, the sample space of a coin toss is {heads, tails}. The sample space of a die roll is {1, 2, 3, 4, 5, 6}. The sample space of drawing a card from a deck is {ace of spades, two of spades, three of spades, ..., king of spades, ace of hearts, two of hearts, ..., king of hearts, ace of diamonds, two of diamonds, ..., king of diamonds, ace of clubs, two of clubs, ..., king of clubs}.\n",
    "\n",
    "(prob-event)=\n",
    "## Event\n",
    "\n",
    "An event is a subset of the sample space. For example, the event \"heads or tails\" is a subset of the sample space of a coin toss. The event \"even number\" is a subset of the sample space of a die roll. The event \"ace\" is a subset of the sample space of drawing a card from a deck.\n",
    "\n",
    "### some rules and terms\n",
    "(prob-union)=\n",
    "- if we have A and B, and \"either A or B\" is true, then we have a union of A and B, union is denoted by U and it is shown as: $ A \\bigcup B $"
   ]
  },
  {
   "cell_type": "markdown",
   "metadata": {},
   "source": [
    "(prob-intersection)=\n",
    "- $A \\bigcap B$ is the event that both A and B occur. this is called the intersection of A and B."
   ]
  },
  {
   "cell_type": "markdown",
   "metadata": {},
   "source": [
    "(prob-complement)=\n",
    "- ${A}'$ is the event \"not $A$\" which is called the complement of $A$."
   ]
  },
  {
   "cell_type": "markdown",
   "metadata": {},
   "source": [
    "\n",
    "- $ A - B$ = $A \\cap B$ = $A \\cap (1-B)$ which is the event in which \"$A$\" occurs but \"$B$\" does not occur."
   ]
  },
  {
   "cell_type": "markdown",
   "metadata": {},
   "source": [
    "\n",
    "- in particular we have the form of ${A}' = S - A$ where $S$ is the set of all possible outcomes."
   ]
  },
  {
   "cell_type": "markdown",
   "metadata": {},
   "source": [
    "(prob-sample-space1)=\n",
    ":::{tip}\n",
    "$S$ is the sample space of all possible outcomes of an experiment. for example if we toss a coin, the sample space is $S = \\{H, T\\}$. and if we repeat it 3 times, the sample space is $S = \\{HHH, HHT, HTH, HTT, THH, THT, TTH, TTT\\}$ "
   ]
  },
  {
   "cell_type": "markdown",
   "metadata": {},
   "source": [
    "## Axioms of Probability\n",
    "\n",
    "### Axiom 1:\n",
    "\n",
    "The probability of an event is a nonnegative real number. this means if we have an event $A$, then \n",
    "\n",
    "$$ P(A) \\geq 0 $$"
   ]
  },
  {
   "cell_type": "markdown",
   "metadata": {},
   "source": [
    "### Axiom 2: \n",
    "\n",
    "for the sure or being certain event, the probability is 1\n",
    "\n",
    "$$ P(S) = 1 $$"
   ]
  },
  {
   "cell_type": "markdown",
   "metadata": {},
   "source": [
    "### Axiom 3:\n",
    "\n",
    "for any number or mutually exclusive events $A_1, A_2, A_3, \\dots, A_n$ we have:\n",
    "\n",
    "$$P(A_1 \\cup A_2 \\cup A_3 \\cup \\dots \\cup A_n) = P(A_1) + P(A_2) + P(A_3) + \\dots + P(A_n)$$"
   ]
  },
  {
   "cell_type": "markdown",
   "metadata": {},
   "source": [
    "in particular, the following will be used:\n",
    "\n",
    "$$ P(A \\cup B) = P(A_1) + P(A_2) $$"
   ]
  },
  {
   "cell_type": "markdown",
   "metadata": {},
   "source": [
    "## theorems on probability"
   ]
  },
  {
   "cell_type": "markdown",
   "metadata": {},
   "source": [
    "### theorems 1:\n",
    "\n",
    "if $A_1$ is smaller than $A_2$ then $P(A_1)$ is smaller than $P(A_2)$ and then\n",
    "\n",
    "$$P(A_2 - A_1) = P(A_2) - P(A_1)$$"
   ]
  },
  {
   "cell_type": "markdown",
   "metadata": {},
   "source": [
    "### theorem 2:\n",
    "\n",
    "for every event of $A$ we have:\n",
    "\n",
    "$$ 0 \\leq P(A) \\leq 1 $$"
   ]
  },
  {
   "cell_type": "markdown",
   "metadata": {},
   "source": [
    "### theorem 3:\n",
    "\n",
    "the impossible event is the empty set, and its probability is 0.\n",
    "\n",
    "$$ P(\\emptyset) = 0 $$"
   ]
  },
  {
   "cell_type": "markdown",
   "metadata": {},
   "source": [
    "### theorem 4:\n",
    "\n",
    "if ${A}'$ is [complement](prob-complement) of $A$, then \n",
    "\n",
    "$$P({A}') = 1 - P(A)$$"
   ]
  },
  {
   "cell_type": "markdown",
   "metadata": {},
   "source": [
    "### theorem 5:\n",
    "\n",
    "If $A = A_1 \\cup A_2 \\cup \\dots \\cup A_n$ where $A_1, A_2, \\dots, A_n$ are disjoint events, then\n",
    "\n",
    "$$P(A) = P(A_1) + P(A_2) + \\dots + P(A_n)$$"
   ]
  },
  {
   "cell_type": "markdown",
   "metadata": {},
   "source": [
    "In particular is $A = S$ then\n",
    "\n",
    "$$ P(A_1) + P(A_2) + \\dots + P(A_n) = 1 $$"
   ]
  },
  {
   "cell_type": "markdown",
   "metadata": {},
   "source": [
    "### theorem 6:\n",
    "\n",
    "if $A$ and $B$ are any two events, then\n",
    "\n",
    "$$P(A \\cup B) = P(A) + P(B) - P(A \\cap B)$$"
   ]
  },
  {
   "cell_type": "markdown",
   "metadata": {},
   "source": [
    "More generally, if $A_1, A_2, A_3$, are three events then we have\n",
    "\n",
    "$$ \\begin{split} P(A_1 \\cup A_2 \\cup A_3) = \\\\& \\quad P(A_1) + P(A_2) + P(A_3) - \\\\& \\quad P(A_1 \\cap A_2) - P(A_1 \\cap A_3) -\n",
    "\\\\& \\quad P(A_2 \\cap A_3) + P(A_1 \\cap A_2 \\cap A_3) \\end{split}$$"
   ]
  }
 ],
 "metadata": {
  "language_info": {
   "name": "python"
  },
  "orig_nbformat": 4
 },
 "nbformat": 4,
 "nbformat_minor": 2
}
