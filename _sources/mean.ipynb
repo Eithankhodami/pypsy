{
 "cells": [
  {
   "cell_type": "markdown",
   "metadata": {},
   "source": [
    "# Mean"
   ]
  },
  {
   "cell_type": "markdown",
   "metadata": {},
   "source": [
    "## What is Mean?"
   ]
  },
  {
   "cell_type": "markdown",
   "metadata": {},
   "source": [
    "The mean is the average of the numbers. It is easy to calculate: add up all the numbers, then divide by how many numbers there are. In other words it is the sum divided by the count.\n",
    "\n",
    "the formula for calculating the mean is:\n",
    "\n",
    "```{math}\n",
    ":label: my-math-mean\n",
    "\\bar{x} = \\frac{1}{n}\\sum_{i=1}^{n}x_i  \n",
    "```\n",
    "\n",
    "where:\n",
    "\n",
    "- $\\bar{x}$ is the mean\n",
    "- $n$ is the number of items in the set\n",
    "- $x_i$ is the ith item in the set"
   ]
  },
  {
   "cell_type": "markdown",
   "metadata": {},
   "source": [
    "This formula calculates the average of a set of numbers. To calculate the mean, you add up all the numbers in the set and divide by the total number of observations. The result is the mean.\n",
    "\n",
    "## Mean in python using numpy\n",
    "\n",
    "but in python we have an easy way to calculate mean using the numpy library. The numpy library has a function called `mean()` which takes a list as an argument and returns the mean of the list.\n",
    "\n",
    "to use the numpy library we have to import it first using the following procedure:\n",
    "\n",
    "### How to use it?\n",
    "\n",
    "1. open the python or your favorite IDE\n",
    "2. type the following command in the python shell or in the IDE"
   ]
  },
  {
   "cell_type": "code",
   "execution_count": 1,
   "metadata": {},
   "outputs": [],
   "source": [
    "import numpy as np"
   ]
  },
  {
   "cell_type": "markdown",
   "metadata": {},
   "source": [
    "3. now you can use the numpy library by typing the following command"
   ]
  },
  {
   "cell_type": "markdown",
   "metadata": {},
   "source": [
    "let's Assume you don't have data, so we can create a random data using another command of `numpy` named `random`. Later we discuss `random` in detail, but for now let's use it to create a random data."
   ]
  },
  {
   "cell_type": "markdown",
   "metadata": {},
   "source": [
    ":::{tip}\n",
    "`random` is a module which create random numbers. `random.random()` returns a random floating point number in the range [0.0, 1.0). aldom `random.randint(a, b)` returns a random integer N such that a <= N <= b.\n",
    ":::\n"
   ]
  },
  {
   "cell_type": "markdown",
   "metadata": {},
   "source": [
    ":::{caution}\n",
    "if you use random function, each time you run the code, you will get different result. to solve this problem you have to use seed function.\n",
    ":::"
   ]
  },
  {
   "cell_type": "markdown",
   "metadata": {},
   "source": [
    "lets cretae a random numbers and calculate the mean of them."
   ]
  },
  {
   "cell_type": "code",
   "execution_count": 2,
   "metadata": {},
   "outputs": [],
   "source": [
    "import numpy as np\n",
    "np.random.seed(0)\n",
    "numbers = np.random.randint(1, 100, 64)\n"
   ]
  },
  {
   "cell_type": "markdown",
   "metadata": {},
   "source": [
    "here we created 64 random numbers between 1 and 100. let's take a look at it."
   ]
  },
  {
   "cell_type": "code",
   "execution_count": 3,
   "metadata": {},
   "outputs": [
    {
     "data": {
      "text/plain": [
       "array([45, 48, 65, 68, 68, 10, 84, 22, 37, 88, 71, 89, 89, 13, 59, 66, 40,\n",
       "       88, 47, 89, 82, 38, 26, 78, 73, 10, 21, 81, 70, 80, 48, 65, 83, 89,\n",
       "       50, 30, 20, 20, 15, 40, 33, 66, 10, 58, 33, 32, 75, 24, 36, 76, 56,\n",
       "       29, 35,  1,  1, 37, 54,  6, 39, 18, 80,  5, 43, 59])"
      ]
     },
     "execution_count": 3,
     "metadata": {},
     "output_type": "execute_result"
    }
   ],
   "source": [
    "numbers"
   ]
  },
  {
   "cell_type": "markdown",
   "metadata": {},
   "source": [
    ":::{note}\n",
    "`random.randint(x, y)` returns a list of numbers. The first argument is the lower bound and the second argument is the upper bound. The upper bound is not included in the list."
   ]
  },
  {
   "cell_type": "markdown",
   "metadata": {},
   "source": [
    "now let's calculate mean of numbers"
   ]
  },
  {
   "cell_type": "code",
   "execution_count": 4,
   "metadata": {},
   "outputs": [
    {
     "data": {
      "text/plain": [
       "48.609375"
      ]
     },
     "execution_count": 4,
     "metadata": {},
     "output_type": "execute_result"
    }
   ],
   "source": [
    "numbers.mean()"
   ]
  },
  {
   "cell_type": "code",
   "execution_count": null,
   "metadata": {},
   "outputs": [],
   "source": []
  }
 ],
 "metadata": {
  "kernelspec": {
   "display_name": "Python 3",
   "language": "python",
   "name": "python3"
  },
  "language_info": {
   "codemirror_mode": {
    "name": "ipython",
    "version": 3
   },
   "file_extension": ".py",
   "mimetype": "text/x-python",
   "name": "python",
   "nbconvert_exporter": "python",
   "pygments_lexer": "ipython3",
   "version": "3.11.3"
  },
  "orig_nbformat": 4
 },
 "nbformat": 4,
 "nbformat_minor": 2
}
